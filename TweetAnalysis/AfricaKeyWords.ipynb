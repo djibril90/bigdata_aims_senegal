{
 "metadata": {
  "name": "",
  "signature": "sha256:230a5b24ee5ea5cc32a3c3d8aa1b5848332014cde7ac6e671e33a0af005beb3b"
 },
 "nbformat": 3,
 "nbformat_minor": 0,
 "worksheets": [
  {
   "cells": [
    {
     "cell_type": "code",
     "collapsed": false,
     "input": [
      "#matplotlib inline\n",
      "import numpy as np\n",
      "import json\n",
      "import pandas as pd\n",
      "import matplotlib.pyplot as plt\n",
      "\n",
      "tweets_data_path = '../data/senegalpib.json'\n",
      "\n",
      "tweets_data = []\n",
      "tweets_file = open(tweets_data_path, \"r\")\n",
      "\n",
      "for line in tweets_file:\n",
      "    try:\n",
      "        tweet = json.loads(line)\n",
      "        tweets_data.append(tweet)\n",
      "    except:\n",
      "        continue\n",
      "        \n",
      "\n",
      "\n",
      "\n",
      "\n",
      "def get_tweet_text(tweet):\n",
      "    #print tweet['text']\n",
      "    return tweet['text']\n",
      "\n",
      "columns = ['text', 'lang','location','followers_count','timestamp_ms'] #,'friends_count', 'country'\n",
      "index = np.arange(len(tweets_data)) # array of numbers for the number of samples\n",
      "\n",
      "tweets = pd.DataFrame(columns=columns, index = index)\n",
      "\n",
      "#print tweets_data[0]\n",
      "print tweets_data[2].keys() #['text']\n",
      "print 'saved numbers of tweets: ', len(tweets_data)\n",
      "\n",
      "\n",
      "\n",
      "#df = pd.DataFrame(columns=columns, index = index)\n",
      "\n"
     ],
     "language": "python",
     "metadata": {},
     "outputs": [
      {
       "output_type": "stream",
       "stream": "stdout",
       "text": [
        "[u'contributors', u'truncated', u'text', u'is_quote_status', u'in_reply_to_status_id', u'id', u'favorite_count', u'source', u'retweeted', u'coordinates', u'timestamp_ms', u'entities', u'in_reply_to_screen_name', u'id_str', u'retweet_count', u'in_reply_to_user_id', u'favorited', u'user', u'geo', u'in_reply_to_user_id_str', u'possibly_sensitive', u'lang', u'created_at', u'filter_level', u'in_reply_to_status_id_str', u'place']\n",
        "saved numbers of tweets:  33\n"
       ]
      }
     ],
     "prompt_number": 2
    },
    {
     "cell_type": "code",
     "collapsed": false,
     "input": [
      "tweets['text'] = map(lambda tweet: tweet['text'], tweets_data)\n",
      "tweets['lang'] = map(lambda tweet: tweet['lang'], tweets_data)\n",
      "tweets['location'] = map(lambda tweet: tweet['user']['location'] if tweet['user']['location'] != None else u'Unknown', tweets_data)\n",
      "tweets['followers_count'] = map(lambda tweet: tweet['user']['followers_count'], tweets_data)\n",
      "tweets['timestamp_ms'] = map(lambda tweet: tweet['timestamp_ms'], tweets_data)\n",
      "\n",
      "tweets['location'].value_counts()"
     ],
     "language": "python",
     "metadata": {},
     "outputs": [
      {
       "metadata": {},
       "output_type": "pyout",
       "prompt_number": 3,
       "text": [
        "Unknown                                      12\n",
        "Nigeria                                       3\n",
        "Senegal                                       2\n",
        "Brisbane, Australia                           1\n",
        "Lagos, Nigeria                                1\n",
        "\u5343\u8449\u5e02\u304a\u3086\u307f\u91ce                                       1\n",
        "\u798f\u5ca1\u5e02\u5357\u533a                                         1\n",
        "USA                                           1\n",
        "\u00dcT: 10.614817868480726,12.195582811791382     1\n",
        "Lagos Nigeria                                 1\n",
        "Latin America                                 1\n",
        "Cape Town                                     1\n",
        "\u9577\u91ce\u770c \u9577\u91ce\u5e02                                       1\n",
        "Pittsburgh, PA                                1\n",
        "Miami, Florida                                1\n",
        "New York, NY                                  1\n",
        "\u8309\u8389\u82b1\u9769\u547d\u3001\u53cd\u5171\u527f\u532a\u4e8e\u4e2d\u5171\u56fd\uff0c\u4e3a\u6c11\u4e3b\u6b63\u4e49\u81ea\u7531\u4eba\u6743\u800c\u594b\u6597\uff01                  1\n",
        "Venezuela                                     1\n",
        "Worldwide                                     1\n",
        "dtype: int64"
       ]
      }
     ],
     "prompt_number": 3
    },
    {
     "cell_type": "code",
     "collapsed": false,
     "input": [
      "tweets_by_lang = tweets['lang'].value_counts()\n",
      "\n",
      "fig, ax = plt.subplots()\n",
      "ax.tick_params(axis='x', labelsize=15)\n",
      "ax.tick_params(axis='y', labelsize=10)\n",
      "ax.set_xlabel('Languages', fontsize=15)\n",
      "ax.set_ylabel('Number of tweets' , fontsize=15)\n",
      "ax.set_title('Top 5 languages Tweeted about Africa', fontsize=15, fontweight='bold')\n",
      "tweets_by_lang[:5].plot(ax=ax, kind='bar', color='red')"
     ],
     "language": "python",
     "metadata": {},
     "outputs": [
      {
       "metadata": {},
       "output_type": "pyout",
       "prompt_number": 4,
       "text": [
        "<matplotlib.axes.AxesSubplot at 0x7efc113e64d0>"
       ]
      }
     ],
     "prompt_number": 4
    },
    {
     "cell_type": "code",
     "collapsed": false,
     "input": [
      "tweets_by_country = tweets['location'].value_counts()\n",
      "\n",
      "fig, ax = plt.subplots()\n",
      "ax.tick_params(axis='x', labelsize=15)\n",
      "ax.tick_params(axis='y', labelsize=10)\n",
      "ax.set_xlabel('Countries', fontsize=15)\n",
      "ax.set_ylabel('Number of tweets' , fontsize=15)\n",
      "ax.set_title('Top 5 locations', fontsize=15, fontweight='bold')\n",
      "tweets_by_country[1:8].plot(ax=ax, kind='bar', color='blue')"
     ],
     "language": "python",
     "metadata": {},
     "outputs": [
      {
       "metadata": {},
       "output_type": "pyout",
       "prompt_number": 5,
       "text": [
        "<matplotlib.axes.AxesSubplot at 0x7efc11417210>"
       ]
      }
     ],
     "prompt_number": 5
    },
    {
     "cell_type": "code",
     "collapsed": false,
     "input": [
      "'''\n",
      "Tweet Mining:\n",
      "---------------\n",
      "In this section we will mine the tweets to learn about interesting topics \n",
      "=======================================================\n",
      "'''\n",
      "\n",
      "import re #regtxt parser\n",
      "\n",
      "#define topics \n",
      "keytopic=['power','safari','happy','freedom','prison']\n",
      "\n",
      "#Create a function called word_in_text(word, text). \n",
      "#to return True if a word is found in text, otherwise it returns False.\n",
      "def word_in_text(word, text):\n",
      "    word = word.lower()\n",
      "    text = text.lower()\n",
      "    match = re.search(word, text)        \n",
      "    if match:\n",
      "        #print text\n",
      "        return True        \n",
      "    return False\n",
      "\n",
      "#add columns in the DataFrame to be True if a topic is found in the tweet else False\n",
      "for itopic in range(len(keytopic)):\n",
      "    tweets[keytopic[itopic]] = tweets['text'].apply(lambda tweet: word_in_text(keytopic[itopic], tweet))\n",
      "\n",
      "#calculate the number of tweets for each  topic\n",
      "tweets_by_topic = [tweets[keytopic[itopic]].value_counts()[True] for itopic in range(len(keytopic))]\n",
      "\n",
      "#=========================================\n",
      "#================ show plots============\n",
      "#=========================================\n",
      "#show a bar plot which illustrates the relative popularity the topics we consider\n",
      "x_pos = list(range(len(keytopic)))\n",
      "width = 0.8\n",
      "fig, ax = plt.subplots()\n",
      "plt.bar(x_pos, tweets_by_topic, width, alpha=1, color='g')\n",
      "\n",
      "# Setting axis labels and ticks\n",
      "ax.set_ylabel('Number of tweets', fontsize=15)\n",
      "ax.set_title('Ranking: By topic', fontsize=10, fontweight='bold')\n",
      "ax.set_xticks([p + 0.4 * width for p in x_pos])\n",
      "ax.set_xticklabels(keytopic)\n",
      "plt.grid()"
     ],
     "language": "python",
     "metadata": {},
     "outputs": [
      {
       "ename": "IndexError",
       "evalue": "index out of bounds",
       "output_type": "pyerr",
       "traceback": [
        "\u001b[0;31m---------------------------------------------------------------------------\u001b[0m\n\u001b[0;31mIndexError\u001b[0m                                Traceback (most recent call last)",
        "\u001b[0;32m<ipython-input-6-94f5aaccac54>\u001b[0m in \u001b[0;36m<module>\u001b[0;34m()\u001b[0m\n\u001b[1;32m     27\u001b[0m \u001b[0;34m\u001b[0m\u001b[0m\n\u001b[1;32m     28\u001b[0m \u001b[0;31m#calculate the number of tweets for each  topic\u001b[0m\u001b[0;34m\u001b[0m\u001b[0;34m\u001b[0m\u001b[0m\n\u001b[0;32m---> 29\u001b[0;31m \u001b[0mtweets_by_topic\u001b[0m \u001b[0;34m=\u001b[0m \u001b[0;34m[\u001b[0m\u001b[0mtweets\u001b[0m\u001b[0;34m[\u001b[0m\u001b[0mkeytopic\u001b[0m\u001b[0;34m[\u001b[0m\u001b[0mitopic\u001b[0m\u001b[0;34m]\u001b[0m\u001b[0;34m]\u001b[0m\u001b[0;34m.\u001b[0m\u001b[0mvalue_counts\u001b[0m\u001b[0;34m(\u001b[0m\u001b[0;34m)\u001b[0m\u001b[0;34m[\u001b[0m\u001b[0mTrue\u001b[0m\u001b[0;34m]\u001b[0m \u001b[0;32mfor\u001b[0m \u001b[0mitopic\u001b[0m \u001b[0;32min\u001b[0m \u001b[0mrange\u001b[0m\u001b[0;34m(\u001b[0m\u001b[0mlen\u001b[0m\u001b[0;34m(\u001b[0m\u001b[0mkeytopic\u001b[0m\u001b[0;34m)\u001b[0m\u001b[0;34m)\u001b[0m\u001b[0;34m]\u001b[0m\u001b[0;34m\u001b[0m\u001b[0m\n\u001b[0m\u001b[1;32m     30\u001b[0m \u001b[0;34m\u001b[0m\u001b[0m\n\u001b[1;32m     31\u001b[0m \u001b[0;31m#=========================================\u001b[0m\u001b[0;34m\u001b[0m\u001b[0;34m\u001b[0m\u001b[0m\n",
        "\u001b[0;32m/usr/lib/python2.7/dist-packages/pandas/core/series.pyc\u001b[0m in \u001b[0;36m__getitem__\u001b[0;34m(self, key)\u001b[0m\n\u001b[1;32m    489\u001b[0m     \u001b[0;32mdef\u001b[0m \u001b[0m__getitem__\u001b[0m\u001b[0;34m(\u001b[0m\u001b[0mself\u001b[0m\u001b[0;34m,\u001b[0m \u001b[0mkey\u001b[0m\u001b[0;34m)\u001b[0m\u001b[0;34m:\u001b[0m\u001b[0;34m\u001b[0m\u001b[0m\n\u001b[1;32m    490\u001b[0m         \u001b[0;32mtry\u001b[0m\u001b[0;34m:\u001b[0m\u001b[0;34m\u001b[0m\u001b[0m\n\u001b[0;32m--> 491\u001b[0;31m             \u001b[0mresult\u001b[0m \u001b[0;34m=\u001b[0m \u001b[0mself\u001b[0m\u001b[0;34m.\u001b[0m\u001b[0mindex\u001b[0m\u001b[0;34m.\u001b[0m\u001b[0mget_value\u001b[0m\u001b[0;34m(\u001b[0m\u001b[0mself\u001b[0m\u001b[0;34m,\u001b[0m \u001b[0mkey\u001b[0m\u001b[0;34m)\u001b[0m\u001b[0;34m\u001b[0m\u001b[0m\n\u001b[0m\u001b[1;32m    492\u001b[0m             \u001b[0;32mif\u001b[0m \u001b[0misinstance\u001b[0m\u001b[0;34m(\u001b[0m\u001b[0mresult\u001b[0m\u001b[0;34m,\u001b[0m \u001b[0mnp\u001b[0m\u001b[0;34m.\u001b[0m\u001b[0mndarray\u001b[0m\u001b[0;34m)\u001b[0m\u001b[0;34m:\u001b[0m\u001b[0;34m\u001b[0m\u001b[0m\n\u001b[1;32m    493\u001b[0m                 \u001b[0;32mreturn\u001b[0m \u001b[0mself\u001b[0m\u001b[0;34m.\u001b[0m\u001b[0m_constructor\u001b[0m\u001b[0;34m(\u001b[0m\u001b[0mresult\u001b[0m\u001b[0;34m,\u001b[0m\u001b[0mindex\u001b[0m\u001b[0;34m=\u001b[0m\u001b[0;34m[\u001b[0m\u001b[0mkey\u001b[0m\u001b[0;34m]\u001b[0m\u001b[0;34m*\u001b[0m\u001b[0mlen\u001b[0m\u001b[0;34m(\u001b[0m\u001b[0mresult\u001b[0m\u001b[0;34m)\u001b[0m\u001b[0;34m)\u001b[0m\u001b[0;34m.\u001b[0m\u001b[0m__finalize__\u001b[0m\u001b[0;34m(\u001b[0m\u001b[0mself\u001b[0m\u001b[0;34m)\u001b[0m\u001b[0;34m\u001b[0m\u001b[0m\n",
        "\u001b[0;32m/usr/lib/python2.7/dist-packages/pandas/core/index.pyc\u001b[0m in \u001b[0;36mget_value\u001b[0;34m(self, series, key)\u001b[0m\n\u001b[1;32m   1036\u001b[0m \u001b[0;34m\u001b[0m\u001b[0m\n\u001b[1;32m   1037\u001b[0m             \u001b[0;32mtry\u001b[0m\u001b[0;34m:\u001b[0m\u001b[0;34m\u001b[0m\u001b[0m\n\u001b[0;32m-> 1038\u001b[0;31m                 \u001b[0;32mreturn\u001b[0m \u001b[0mtslib\u001b[0m\u001b[0;34m.\u001b[0m\u001b[0mget_value_box\u001b[0m\u001b[0;34m(\u001b[0m\u001b[0ms\u001b[0m\u001b[0;34m,\u001b[0m \u001b[0mkey\u001b[0m\u001b[0;34m)\u001b[0m\u001b[0;34m\u001b[0m\u001b[0m\n\u001b[0m\u001b[1;32m   1039\u001b[0m             \u001b[0;32mexcept\u001b[0m \u001b[0mIndexError\u001b[0m\u001b[0;34m:\u001b[0m\u001b[0;34m\u001b[0m\u001b[0m\n\u001b[1;32m   1040\u001b[0m                 \u001b[0;32mraise\u001b[0m\u001b[0;34m\u001b[0m\u001b[0m\n",
        "\u001b[0;32m/usr/lib/python2.7/dist-packages/pandas/tslib.so\u001b[0m in \u001b[0;36mpandas.tslib.get_value_box (pandas/tslib.c:10257)\u001b[0;34m()\u001b[0m\n",
        "\u001b[0;32m/usr/lib/python2.7/dist-packages/pandas/tslib.so\u001b[0m in \u001b[0;36mpandas.tslib.get_value_box (pandas/tslib.c:10104)\u001b[0;34m()\u001b[0m\n",
        "\u001b[0;31mIndexError\u001b[0m: index out of bounds"
       ]
      }
     ],
     "prompt_number": 6
    },
    {
     "cell_type": "code",
     "collapsed": false,
     "input": [
      "'''\n",
      "Targeting relevant tweets with location filter\n",
      "***Not yet working as desired\n",
      "--------------------------------------------------------\n",
      "'''\n",
      "\n",
      "NewTopic=['crisis ','solar','africa']\n",
      "\n",
      "for itopic in range(len(NewTopic)):\n",
      "    tweets[NewTopic[itopic]] = tweets['text'].apply(lambda tweet: word_in_text(NewTopic[itopic], tweet))\n",
      "\n",
      "\n",
      "#find location where the NewTopic is tweeted\n",
      "tweets_newtopic = [tweets[tweets[NewTopic[itopic]] == True]['timestamp_ms'].value_counts()[True] for itopic in range(len(NewTopic))]\n",
      "\n",
      "#=========================================\n",
      "#================ show plots============\n",
      "#=========================================\n",
      "#show a bar plot which illustrates the relative popularity the topics we consider\n",
      "x_pos = list(range(len(NewTopic)))\n",
      "width = 0.8\n",
      "fig, ax = plt.subplots()\n",
      "plt.bar(x_pos, tweets_newtopic, width, alpha=1, color='g')\n",
      "\n",
      "# Setting axis labels and ticks\n",
      "ax.set_ylabel('Number of tweets', fontsize=15)\n",
      "ax.set_title('Ranking: By topic', fontsize=10, fontweight='bold')\n",
      "ax.set_xticks([p + 0.4 * width for p in x_pos])\n",
      "ax.set_xticklabels(NewTopic)\n",
      "plt.grid()"
     ],
     "language": "python",
     "metadata": {},
     "outputs": [
      {
       "metadata": {},
       "output_type": "display_data",
       "png": "[encoded data removed]",
       "text": [
        "<matplotlib.figure.Figure at 0x10cf17ed0>"
       ]
      }
     ],
     "prompt_number": 88
    },
    {
     "cell_type": "code",
     "collapsed": false,
     "input": [
      "import time as time\n",
      "from datetime import datetime\n",
      "def unix_time(dt):\n",
      "    epoch = datetime.utcfromtimestamp(0)\n",
      "    delta = dt - epoch\n",
      "    return delta.total_seconds()\n",
      "\n",
      "def unix_time_millis(dt):\n",
      "    return unix_time(dt) * 1000.0"
     ],
     "language": "python",
     "metadata": {},
     "outputs": [],
     "prompt_number": 13
    },
    {
     "cell_type": "code",
     "collapsed": false,
     "input": [
      "def created_at_seconds(created_at=\"Sun May 25 04:10:55 +0000 2014\"):\n",
      "    '''\n",
      "    This function changes tweeter created_at field to time in seconds since 1970\n",
      "    '''\n",
      "\n",
      "    tstamp=time.strptime(created_at,'%a %b %d %H:%M:%S +0000 %Y')\n",
      "    ts = datetime.fromtimestamp(time.mktime(tstamp))\n",
      "    return unix_time(ts)"
     ],
     "language": "python",
     "metadata": {},
     "outputs": [],
     "prompt_number": 34
    },
    {
     "cell_type": "code",
     "collapsed": false,
     "input": [
      "print created_at_seconds()"
     ],
     "language": "python",
     "metadata": {},
     "outputs": [
      {
       "output_type": "stream",
       "stream": "stdout",
       "text": [
        "1400991055.0\n"
       ]
      }
     ],
     "prompt_number": 35
    },
    {
     "cell_type": "code",
     "collapsed": false,
     "input": [
      "datetime.strftime('Sun May 25 04:10:55 +0000 2014', '%A %b %d %H:%M:%S %z %Y')"
     ],
     "language": "python",
     "metadata": {},
     "outputs": []
    }
   ],
   "metadata": {}
  }
 ]
}